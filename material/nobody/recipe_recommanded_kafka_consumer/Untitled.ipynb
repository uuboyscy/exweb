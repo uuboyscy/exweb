{
 "cells": [
  {
   "cell_type": "code",
   "execution_count": null,
   "metadata": {},
   "outputs": [],
   "source": [
    "with open(r'./recipe_recommanded_carousel/U1e91bf35eb5315bc17da624e46a65c51.py', 'r', encoding='utf-8') as f:\n",
    "    k = f.read()\n",
    "y = k.replace('\\n', '').replace(\"\\\", \"\")\n",
    "y"
   ]
  },
  {
   "cell_type": "code",
   "execution_count": null,
   "metadata": {},
   "outputs": [],
   "source": [
    "from recipe_recommanded_carousel import 'recipe_recommanded_carousel'\n",
    "recipe_recommanded_carousel.flexCarouselContainerJsonDict"
   ]
  },
  {
   "cell_type": "code",
   "execution_count": null,
   "metadata": {},
   "outputs": [],
   "source": [
    "i = __import__('recipe_recommanded_carousel.U7173dc299af6ac3fe7697a75c2a280ad')\n",
    "y = dir(i)\n",
    "flexCarouselContainerJsonDict = eval('U7173dc299af6ac3fe7697a75c2a280ad.flexCarouselContainerJsonDict')\n",
    "flexCarouselContainerJsonDict"
   ]
  },
  {
   "cell_type": "code",
   "execution_count": null,
   "metadata": {},
   "outputs": [],
   "source": [
    "import recipe_recommanded_carousel.U7173dc299af6ac3fe7697a75c2a280ad\n",
    "U7173dc299af6ac3fe7697a75c2a280ad.flexCarouselContainerJsonDict"
   ]
  },
  {
   "cell_type": "code",
   "execution_count": null,
   "metadata": {},
   "outputs": [],
   "source": [
    "import importlib\n",
    "i = importlib.import_module(\"recipe_recommanded_carousel.U7173dc299af6ac3fe7697a75c2a280ad\")\n",
    "#flexCarouselContainerJsonDict = eval('U7173dc299af6ac3fe7697a75c2a280ad.flexCarouselContainerJsonDict')\n",
    "#flexCarouselContainerJsonDict\n",
    "U7173dc299af6ac3fe7697a75c2a280ad.flexCarouselContainerJsonDict"
   ]
  },
  {
   "cell_type": "code",
   "execution_count": 1,
   "metadata": {},
   "outputs": [
    {
     "ename": "NameError",
     "evalue": "name 'U7173dc299af6ac3fe7697a75c2a280ad' is not defined",
     "output_type": "error",
     "traceback": [
      "\u001b[0;31m---------------------------------------------------------------------------\u001b[0m",
      "\u001b[0;31mNameError\u001b[0m                                 Traceback (most recent call last)",
      "\u001b[0;32m<ipython-input-1-67b396978743>\u001b[0m in \u001b[0;36m<module>\u001b[0;34m\u001b[0m\n\u001b[1;32m      3\u001b[0m \u001b[0;31m#i = importlib.import_module(\"recipe_recommanded_carousel.U7173dc299af6ac3fe7697a75c2a280ad\")\u001b[0m\u001b[0;34m\u001b[0m\u001b[0;34m\u001b[0m\u001b[0;34m\u001b[0m\u001b[0m\n\u001b[1;32m      4\u001b[0m \u001b[0;32mfrom\u001b[0m \u001b[0mrecipe_recommanded_carousel\u001b[0m \u001b[0;32mimport\u001b[0m \u001b[0;34m*\u001b[0m\u001b[0;34m\u001b[0m\u001b[0;34m\u001b[0m\u001b[0m\n\u001b[0;32m----> 5\u001b[0;31m \u001b[0mprint\u001b[0m\u001b[0;34m(\u001b[0m\u001b[0mU7173dc299af6ac3fe7697a75c2a280ad\u001b[0m\u001b[0;34m.\u001b[0m\u001b[0mflexCarouselContainerJsonDict\u001b[0m\u001b[0;34m)\u001b[0m\u001b[0;34m\u001b[0m\u001b[0;34m\u001b[0m\u001b[0m\n\u001b[0m",
      "\u001b[0;31mNameError\u001b[0m: name 'U7173dc299af6ac3fe7697a75c2a280ad' is not defined"
     ]
    }
   ],
   "source": [
    "#from recipe_recommanded_carousel import U7173dc299af6ac3fe7697a75c2a280ad\n",
    "#import importlib\n",
    "#i = importlib.import_module(\"recipe_recommanded_carousel.U7173dc299af6ac3fe7697a75c2a280ad\")\n",
    "from recipe_recommanded_carousel import *\n",
    "print(U7173dc299af6ac3fe7697a75c2a280ad.flexCarouselContainerJsonDict)"
   ]
  },
  {
   "cell_type": "code",
   "execution_count": 2,
   "metadata": {},
   "outputs": [],
   "source": [
    "import imp"
   ]
  }
 ],
 "metadata": {
  "kernelspec": {
   "display_name": "Python 3",
   "language": "python",
   "name": "python3"
  },
  "language_info": {
   "codemirror_mode": {
    "name": "ipython",
    "version": 3
   },
   "file_extension": ".py",
   "mimetype": "text/x-python",
   "name": "python",
   "nbconvert_exporter": "python",
   "pygments_lexer": "ipython3",
   "version": "3.7.1"
  }
 },
 "nbformat": 4,
 "nbformat_minor": 2
}
