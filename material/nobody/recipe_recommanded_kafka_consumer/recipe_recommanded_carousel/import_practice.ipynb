{
 "cells": [
  {
   "cell_type": "code",
   "execution_count": 1,
   "metadata": {},
   "outputs": [
    {
     "data": {
      "text/plain": [
       "'\\n            {\\n\\n                \"type\": \"carousel\",\\n                \"contents\": [\\n            \\n            {\\n                    \"type\": \"bubble\",\\n                    \"hero\": {\\n                      \"type\": \"image\",\\n                      \"url\": \"https://tokyo-kitchen.icook.network/uploads/recipe/cover/253295/large_aa13e6cb28b26dfb.jpg\",\\n                      \"size\": \"full\",\\n                      \"aspectRatio\": \"20:13\",\\n                      \"aspectMode\": \"cover\"\\n                    },\\n                    \"body\": {\\n                      \"type\": \"box\",\\n                      \"layout\": \"vertical\",\\n                      \"spacing\": \"sm\",\\n                      \"contents\": [\\n                        {\\n                          \"type\": \"text\",\\n                          \"text\": \"減肥好朋友《橄欖油嫩煎雞胸》\",\\n                          \"size\": \"lg\",\\n                          \"weight\": \"bold\",\\n                          \"wrap\": true\\n                        },\\n                        {\\n                          \"type\": \"box\",\\n                          \"layout\": \"baseline\",\\n                          \"contents\": [\\n                            {\\n                              \"type\": \"text\",\\n                              \"text\": \"[\\'pepper\\', \\'water\\', \\'chicken\\', \\'salt\\', \\'oil\\']\",\\n                              \"flex\": 0,\\n                              \"size\": \"sm\",\\n                              \"weight\": \"bold\",\\n                              \"color\": \"#8A8989\",\\n                              \"wrap\": true\\n                            }\\n                          ]\\n                        }\\n                      ]\\n                    },\\n                    \"footer\": {\\n                      \"type\": \"box\",\\n                      \"layout\": \"vertical\",\\n                      \"spacing\": \"sm\",\\n                      \"contents\": [\\n                        {\\n                          \"type\": \"button\",\\n                          \"action\": {\\n                            \"type\": \"uri\",\\n                            \"label\": \"看食譜\",\\n                            \"uri\": \"https://icook.tw/recipes/253295\"\\n                          },\\n                          \"color\": \"#AAAAAA\",\\n                          \"style\": \"primary\"\\n                        }\\n                      ]\\n                    }\\n                  },\\n            \\n            {\\n                    \"type\": \"bubble\",\\n                    \"hero\": {\\n                      \"type\": \"image\",\\n                      \"url\": \"https://tokyo-kitchen.icook.network/uploads/recipe/cover/17585/large_2219f0f1ea100f4a.jpg\",\\n                      \"size\": \"full\",\\n                      \"aspectRatio\": \"20:13\",\\n                      \"aspectMode\": \"cover\"\\n                    },\\n                    \"body\": {\\n                      \"type\": \"box\",\\n                      \"layout\": \"vertical\",\\n                      \"spacing\": \"sm\",\\n                      \"contents\": [\\n                        {\\n                          \"type\": \"text\",\\n                          \"text\": \"炸雞腿排\",\\n                          \"size\": \"lg\",\\n                          \"weight\": \"bold\",\\n                          \"wrap\": true\\n                        },\\n                        {\\n                          \"type\": \"box\",\\n                          \"layout\": \"baseline\",\\n                          \"contents\": [\\n                            {\\n                              \"type\": \"text\",\\n                              \"text\": \"[\\'chicken\\', \\'salt\\', \\'pepper\\', \\'soy sauce\\']\",\\n                              \"flex\": 0,\\n                              \"size\": \"sm\",\\n                              \"weight\": \"bold\",\\n                              \"color\": \"#8A8989\",\\n                              \"wrap\": true\\n                            }\\n                          ]\\n                        }\\n                      ]\\n                    },\\n                    \"footer\": {\\n                      \"type\": \"box\",\\n                      \"layout\": \"vertical\",\\n                      \"spacing\": \"sm\",\\n                      \"contents\": [\\n                        {\\n                          \"type\": \"button\",\\n                          \"action\": {\\n                            \"type\": \"uri\",\\n                            \"label\": \"看食譜\",\\n                            \"uri\": \"https://icook.tw/recipes/17585\"\\n                          },\\n                          \"color\": \"#AAAAAA\",\\n                          \"style\": \"primary\"\\n                        }\\n                      ]\\n                    }\\n                  },\\n            \\n            {\\n                    \"type\": \"bubble\",\\n                    \"hero\": {\\n                      \"type\": \"image\",\\n                      \"url\": \"https://tokyo-kitchen.icook.network/uploads/recipe/cover/237441/large_ea576ced0e0ac76e.jpg\",\\n                      \"size\": \"full\",\\n                      \"aspectRatio\": \"20:13\",\\n                      \"aspectMode\": \"cover\"\\n                    },\\n                    \"body\": {\\n                      \"type\": \"box\",\\n                      \"layout\": \"vertical\",\\n                      \"spacing\": \"sm\",\\n                      \"contents\": [\\n                        {\\n                          \"type\": \"text\",\\n                          \"text\": \"蛤蠣鮮味蔥雞湯~感冒必備\",\\n                          \"size\": \"lg\",\\n                          \"weight\": \"bold\",\\n                          \"wrap\": true\\n                        },\\n                        {\\n                          \"type\": \"box\",\\n                          \"layout\": \"baseline\",\\n                          \"contents\": [\\n                            {\\n                              \"type\": \"text\",\\n                              \"text\": \"[\\'chicken\\', \\'pepper\\', \\'onion\\']\",\\n                              \"flex\": 0,\\n                              \"size\": \"sm\",\\n                              \"weight\": \"bold\",\\n                              \"color\": \"#8A8989\",\\n                              \"wrap\": true\\n                            }\\n                          ]\\n                        }\\n                      ]\\n                    },\\n                    \"footer\": {\\n                      \"type\": \"box\",\\n                      \"layout\": \"vertical\",\\n                      \"spacing\": \"sm\",\\n                      \"contents\": [\\n                        {\\n                          \"type\": \"button\",\\n                          \"action\": {\\n                            \"type\": \"uri\",\\n                            \"label\": \"看食譜\",\\n                            \"uri\": \"https://icook.tw/recipes/237441\"\\n                          },\\n                          \"color\": \"#AAAAAA\",\\n                          \"style\": \"primary\"\\n                        }\\n                      ]\\n                    }\\n                  },\\n            \\n            {\\n                    \"type\": \"bubble\",\\n                    \"hero\": {\\n                      \"type\": \"image\",\\n                      \"url\": \"https://tokyo-kitchen.icook.network/uploads/recipe/cover/131676/large_d3bbdf46c8401f8f.jpg\",\\n                      \"size\": \"full\",\\n                      \"aspectRatio\": \"20:13\",\\n                      \"aspectMode\": \"cover\"\\n                    },\\n                    \"body\": {\\n                      \"type\": \"box\",\\n                      \"layout\": \"vertical\",\\n                      \"spacing\": \"sm\",\\n                      \"contents\": [\\n                        {\\n                          \"type\": \"text\",\\n                          \"text\": \"香酥雞腿排\",\\n                          \"size\": \"lg\",\\n                          \"weight\": \"bold\",\\n                          \"wrap\": true\\n                        },\\n                        {\\n                          \"type\": \"box\",\\n                          \"layout\": \"baseline\",\\n                          \"contents\": [\\n                            {\\n                              \"type\": \"text\",\\n                              \"text\": \"[\\'chicken\\', \\'pepper\\']\",\\n                              \"flex\": 0,\\n                              \"size\": \"sm\",\\n                              \"weight\": \"bold\",\\n                              \"color\": \"#8A8989\",\\n                              \"wrap\": true\\n                            }\\n                          ]\\n                        }\\n                      ]\\n                    },\\n                    \"footer\": {\\n                      \"type\": \"box\",\\n                      \"layout\": \"vertical\",\\n                      \"spacing\": \"sm\",\\n                      \"contents\": [\\n                        {\\n                          \"type\": \"button\",\\n                          \"action\": {\\n                            \"type\": \"uri\",\\n                            \"label\": \"看食譜\",\\n                            \"uri\": \"https://icook.tw/recipes/131676\"\\n                          },\\n                          \"color\": \"#AAAAAA\",\\n                          \"style\": \"primary\"\\n                        }\\n                      ]\\n                    }\\n                  },\\n            \\n            {\\n                    \"type\": \"bubble\",\\n                    \"body\": {\\n                      \"type\": \"box\",\\n                      \"layout\": \"vertical\",\\n                      \"spacing\": \"sm\",\\n                      \"contents\": [\\n                        {\\n                          \"type\": \"button\",\\n                          \"action\": {\\n                            \"type\": \"uri\",\\n                            \"label\": \"See more\",\\n                            \"uri\": \"https://en.oxforddictionaries.com/definition/cuisine\"\\n                          },\\n                          \"flex\": 1,\\n                          \"gravity\": \"center\"\\n                        }\\n                      ]\\n                    }\\n                  }\\n                ]\\n\\n            }\\n            '"
      ]
     },
     "execution_count": 1,
     "metadata": {},
     "output_type": "execute_result"
    }
   ],
   "source": [
    "import sys\n",
    "s = 'U1e91bf35eb5315bc17da624e46a65c51'\n",
    "__import__('%s'%(s), fromlist=[''])\n",
    "sys.modules['%s'%(s)].flexCarouselContainerJsonDict\n",
    "#U1e91bf35eb5315bc17da624e46a65c51.flexCarouselContainerJsonDict"
   ]
  },
  {
   "cell_type": "code",
   "execution_count": 4,
   "metadata": {},
   "outputs": [
    {
     "data": {
      "text/plain": [
       "<module 'U1e91bf35eb5315bc17da624e46a65c51' from '/home/jovyan/work/nobody/recipe_recommanded_kafka_consumer/recipe_recommanded_carousel/U1e91bf35eb5315bc17da624e46a65c51.py'>"
      ]
     },
     "execution_count": 4,
     "metadata": {},
     "output_type": "execute_result"
    }
   ],
   "source": [
    "import imp\n",
    "imp.reload(sys.modules['%s'%(s)])"
   ]
  },
  {
   "cell_type": "code",
   "execution_count": null,
   "metadata": {},
   "outputs": [],
   "source": [
    "import U1e91bf35eb5315bc17da624e46a65c51\n",
    "U1e91bf35eb5315bc17da624e46a65c51.flexCarouselContainerJsonDict"
   ]
  },
  {
   "cell_type": "code",
   "execution_count": 5,
   "metadata": {},
   "outputs": [
    {
     "data": {
      "text/plain": [
       "True"
      ]
     },
     "execution_count": 5,
     "metadata": {},
     "output_type": "execute_result"
    }
   ],
   "source": [
    "import os\n",
    "os.path.isfile(r'./U1e91bf35eb5315bc17da624e46a65c51.py')"
   ]
  }
 ],
 "metadata": {
  "kernelspec": {
   "display_name": "Python 3",
   "language": "python",
   "name": "python3"
  },
  "language_info": {
   "codemirror_mode": {
    "name": "ipython",
    "version": 3
   },
   "file_extension": ".py",
   "mimetype": "text/x-python",
   "name": "python",
   "nbconvert_exporter": "python",
   "pygments_lexer": "ipython3",
   "version": "3.7.1"
  }
 },
 "nbformat": 4,
 "nbformat_minor": 2
}
