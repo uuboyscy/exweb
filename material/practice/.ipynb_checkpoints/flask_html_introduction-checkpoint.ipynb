{
 "cells": [
  {
   "cell_type": "code",
   "execution_count": 1,
   "metadata": {},
   "outputs": [],
   "source": [
    "#製作flask環境\n",
    "from weatherAPI import WeatherAPI\n",
    "from flask import Flask, request"
   ]
  },
  {
   "cell_type": "code",
   "execution_count": 2,
   "metadata": {},
   "outputs": [],
   "source": [
    "#呼叫出Flask\n",
    "app = Flask(__name__)\n",
    "wth = WeatherAPI()"
   ]
  },
  {
   "cell_type": "code",
   "execution_count": 3,
   "metadata": {},
   "outputs": [],
   "source": [
    "#製作一個接口，將server內部的程式做區隔，接口位置在“/hello”\n",
    "#將變數加在url中\n",
    "@app.route('/hello/<name>')\n",
    "#做一個函式是當接口被拜訪時會被啟動\n",
    "def hello(name):\n",
    "    #做一個變數\n",
    "    text = \"Hello %s!!\" % (name)\n",
    "    #回傳函式的結果給使用者\n",
    "    return text"
   ]
  },
  {
   "cell_type": "code",
   "execution_count": 4,
   "metadata": {},
   "outputs": [],
   "source": [
    "#將變數加在url之後，要再特別的擷取出變數\n",
    "@app.route('/hello_get')\n",
    "def add():\n",
    "    name = request.args.get('name')\n",
    "    print(name)\n",
    "    age = request.args.get('age')\n",
    "    print(age)\n",
    "    if name == None:\n",
    "        text = \"Who are you?\"\n",
    "    elif age == None:\n",
    "        text = \"Hello %s!!\" % (name)\n",
    "    else:\n",
    "        text = \"Hello %s!! You are %s years old!!\" % (name, age)\n",
    "    return text"
   ]
  },
  {
   "cell_type": "code",
   "execution_count": 5,
   "metadata": {},
   "outputs": [],
   "source": [
    "@app.route('/hello_post', methods=['GET'])\n",
    "def getdata():\n",
    "    outStr = \"\"\"\n",
    "    <!doctype html>\n",
    "    <title>Hello, World!</title>\n",
    "    <h1>Hello, your name is ?</h1>\n",
    "    <p></p>\n",
    "    <form action=\"/hello_post\" method=\"post\">\n",
    "    <label>Name:</label>\n",
    "    <input type=\"textbox\" name=\"username\">\n",
    "    <input type=\"submit\" value=\"Submit\">\n",
    "    </form>\n",
    "    \"\"\"\n",
    "    #return render_template('text.html')\n",
    "    return outStr"
   ]
  },
  {
   "cell_type": "code",
   "execution_count": 6,
   "metadata": {},
   "outputs": [],
   "source": [
    "@app.route('/hello_post', methods=['POST'])\n",
    "def submit():\n",
    "    outStr = \"\"\"\n",
    "    <!doctype html>\n",
    "    <title>Hello, World!</title>\n",
    "    <h1>Hello, your name is ?</h1>\n",
    "    <p></p>\n",
    "    <form action=\"/hello_post\" method=\"post\">\n",
    "    <label>Name:</label>\n",
    "    <input type=\"textbox\" name=\"username\">\n",
    "    <input type=\"submit\" value=\"Submit\">\n",
    "    </form>\n",
    "    \"\"\"\n",
    "    name = request.form.get('username')\n",
    "    \n",
    "    outStr += \"\"\"\n",
    "    <h1>Hello %s !!</h1>\n",
    "    \"\"\"%(name)\n",
    "    return outStr"
   ]
  },
  {
   "cell_type": "code",
   "execution_count": null,
   "metadata": {},
   "outputs": [],
   "source": [
    "@app.route('/weather', methods=['GET'])\n",
    "def getWeather():\n",
    "    outStr = \"\"\"\n",
    "    <!doctype html>\n",
    "    <html>\n",
    "    <meta name=\"viewport\" content=\"width=device-width, initial-scale=1.0\">\n",
    "    <head>\n",
    "<title>Hello, Weather !</title>\n",
    "</head>\n",
    "<body>\n",
    "<h1>Hello, 請輸入中文地名獲取天氣資訊 !</h1>\n",
    "<p></p>\n",
    "<form action=\"/weather\" method=\"post\">\n",
    " <label>Location:</label>\n",
    " <input type=\"textbox\" name=\"location\">\n",
    " <input type=\"submit\" value=\"Submit\">\n",
    "</form>\n",
    "</body>\n",
    "</html>\n",
    "    \"\"\"\n",
    "#     return str(wth.setTownID(location))\n",
    "    return outStr"
   ]
  },
  {
   "cell_type": "code",
   "execution_count": null,
   "metadata": {},
   "outputs": [],
   "source": [
    "@app.route('/weather', methods=['POST'])\n",
    "def showWeather():\n",
    "    outStr = \"\"\"\n",
    "    <!doctype html>\n",
    "    <html>\n",
    "    <meta name=\"viewport\" content=\"width=device-width, initial-scale=1.0\">\n",
    "    <head>\n",
    "<title>Hello, Weather !</title>\n",
    "</head>\n",
    "<body>\n",
    "<h1>Hello, 請輸入中文地名獲取天氣資訊 !</h1>\n",
    "<p></p>\n",
    "<form action=\"/weather\" method=\"post\">\n",
    " <label>Location:</label>\n",
    " <input type=\"textbox\" name=\"location\">\n",
    " <input type=\"submit\" value=\"Submit\">\n",
    "</form>\n",
    "    \"\"\"\n",
    "    loc = request.form.get('location')\n",
    "    print(loc)\n",
    "    wth.setTownID(loc)\n",
    "    wth.getTownWeatherInformationDetail()\n",
    "    outStr += \"\"\"<h2>%s</h2><br>\"\"\"%(loc)\n",
    "    outStr += \"\"\"<img src=\"%s\"><br>\"\"\"%(wth.img_url)\n",
    "    outStr += \"\"\"%s<br>\"\"\"%(wth.desc)\n",
    "    outStr += \"\"\"現在氣溫 %s 度<br>\"\"\"%(wth.temperature)\n",
    "    outStr += \"\"\"體感溫度 %s 度<br>\"\"\"%(wth.felt_air_temp)\n",
    "    outStr += \"\"\"濕度 %s ％<br>\"\"\"%(wth.humidity)\n",
    "#     outStr += \"\"\"降雨量 %s ％<br>\"\"\"%(wth.rainfall)    \n",
    "    outStr += \"\"\"日出時間 %s<br>\"\"\"%(wth.sunrise)\n",
    "    outStr += \"\"\"日落時間 %s<br>\"\"\"%(wth.sunset)\n",
    "    outStr += \"\"\"</body></html>\"\"\"\n",
    "    \n",
    "    return outStr"
   ]
  },
  {
   "cell_type": "code",
   "execution_count": null,
   "metadata": {},
   "outputs": [
    {
     "name": "stderr",
     "output_type": "stream",
     "text": [
      " * Running on http://0.0.0.0:5000/ (Press CTRL+C to quit)\n",
      "168.0.83.30 - - [27/Jul/2019 15:32:10] \"GET / HTTP/1.1\" 404 -\n",
      "183.131.18.172 - - [27/Jul/2019 16:16:23] \"GET /TP/public/index.php HTTP/1.1\" 404 -\n",
      "183.131.18.172 - - [27/Jul/2019 16:16:23] \"GET /TP/index.php HTTP/1.1\" 404 -\n",
      "183.131.18.172 - - [27/Jul/2019 16:16:23] \"GET /thinkphp/html/public/index.php HTTP/1.1\" 404 -\n",
      "183.131.18.172 - - [27/Jul/2019 16:16:23] \"GET /html/public/index.php HTTP/1.1\" 404 -\n",
      "183.131.18.172 - - [27/Jul/2019 16:16:23] \"GET /public/index.php HTTP/1.1\" 404 -\n",
      "183.131.18.172 - - [27/Jul/2019 16:16:23] \"GET /TP/html/public/index.php HTTP/1.1\" 404 -\n",
      "183.131.18.172 - - [27/Jul/2019 16:16:23] \"GET /elrekt.php HTTP/1.1\" 404 -\n",
      "183.131.18.172 - - [27/Jul/2019 16:16:23] \"GET /index.php HTTP/1.1\" 404 -\n",
      "183.131.18.172 - - [27/Jul/2019 16:16:23] \"GET / HTTP/1.1\" 404 -\n"
     ]
    }
   ],
   "source": [
    "#運行flask server，運行在0.0.0.0:5000\n",
    "#要特別注意假如運行在127.0.0.1的話，會變成只有本機連的到，外網無法\n",
    "app.run(debug=True, host='0.0.0.0',port=5000)"
   ]
  }
 ],
 "metadata": {
  "kernelspec": {
   "display_name": "Python 3",
   "language": "python",
   "name": "python3"
  },
  "language_info": {
   "codemirror_mode": {
    "name": "ipython",
    "version": 3
   },
   "file_extension": ".py",
   "mimetype": "text/x-python",
   "name": "python",
   "nbconvert_exporter": "python",
   "pygments_lexer": "ipython3",
   "version": "3.7.3"
  }
 },
 "nbformat": 4,
 "nbformat_minor": 2
}
