{
 "cells": [
  {
   "cell_type": "code",
   "execution_count": 1,
   "metadata": {},
   "outputs": [],
   "source": [
    "#製作flask環境\n",
    "from flask import Flask, request"
   ]
  },
  {
   "cell_type": "code",
   "execution_count": 2,
   "metadata": {},
   "outputs": [],
   "source": [
    "#呼叫出Flask\n",
    "app = Flask(__name__)"
   ]
  },
  {
   "cell_type": "code",
   "execution_count": 3,
   "metadata": {},
   "outputs": [],
   "source": [
    "#製作一個接口，將server內部的程式做區隔，接口位置在“/hello”\n",
    "#將變數加在url中\n",
    "@app.route('/hello/<name>')\n",
    "#做一個函式是當接口被拜訪時會被啟動\n",
    "def hello(name):\n",
    "    #做一個變數\n",
    "    text = \"Hello %s!!\" % (name)\n",
    "    #回傳函式的結果給使用者\n",
    "    return text"
   ]
  },
  {
   "cell_type": "code",
   "execution_count": 4,
   "metadata": {},
   "outputs": [],
   "source": [
    "#將變數加在url之後，要再特別的擷取出變數\n",
    "@app.route('/hello_get')\n",
    "def add():\n",
    "    name = request.args.get('name')\n",
    "    print(name)\n",
    "    age = request.args.get('age')\n",
    "    print(age)\n",
    "    if name == None:\n",
    "        text = \"Who are you?\"\n",
    "    elif age == None:\n",
    "        text = \"Hello %s!!\" % (name)\n",
    "    else:\n",
    "        text = \"Hello %s!! You are %s years old!!\" % (name, age)\n",
    "    return text"
   ]
  },
  {
   "cell_type": "code",
   "execution_count": 5,
   "metadata": {},
   "outputs": [],
   "source": [
    "@app.route('/hello_post', methods=['GET'])\n",
    "def getdata():\n",
    "    outStr = \"\"\"\n",
    "    <!doctype html>\n",
    "    <title>Hello, World!</title>\n",
    "    <h1>Hello, your name is ?</h1>\n",
    "    <p></p>\n",
    "    <form action=\"/hello_post\" method=\"post\">\n",
    "    <label>Name:</label>\n",
    "    <input type=\"textbox\" name=\"username\">\n",
    "    <input type=\"submit\" value=\"Submit\">\n",
    "    </form>\n",
    "    \"\"\"\n",
    "    #return render_template('text.html')\n",
    "    return outStr"
   ]
  },
  {
   "cell_type": "code",
   "execution_count": 6,
   "metadata": {},
   "outputs": [],
   "source": [
    "@app.route('/hello_post', methods=['POST'])\n",
    "def submit():\n",
    "    outStr = \"\"\"\n",
    "    <!doctype html>\n",
    "    <title>Hello, World!</title>\n",
    "    <h1>Hello, your name is ?</h1>\n",
    "    <p></p>\n",
    "    <form action=\"/hello_post\" method=\"post\">\n",
    "    <label>Name:</label>\n",
    "    <input type=\"textbox\" name=\"username\">\n",
    "    <input type=\"submit\" value=\"Submit\">\n",
    "    </form>\n",
    "    \"\"\"\n",
    "    name = request.form.get('username')\n",
    "    \n",
    "    outStr += \"\"\"\n",
    "    <h1>Hello %s !!</h1>\n",
    "    \"\"\"%(name)\n",
    "    return outStr"
   ]
  },
  {
   "cell_type": "code",
   "execution_count": null,
   "metadata": {},
   "outputs": [
    {
     "name": "stderr",
     "output_type": "stream",
     "text": [
      " * Running on http://0.0.0.0:5000/ (Press CTRL+C to quit)\n",
      "172.20.0.3 - - [21/Jul/2019 09:32:35] \"GET /hellouser HTTP/1.1\" 200 -\n",
      "172.20.0.3 - - [21/Jul/2019 09:32:43] \"POST /hellouser HTTP/1.1\" 200 -\n",
      "172.20.0.3 - - [21/Jul/2019 09:32:49] \"POST /hellouser HTTP/1.1\" 200 -\n",
      "172.20.0.3 - - [21/Jul/2019 09:32:55] \"POST /hellouser HTTP/1.1\" 200 -\n",
      "172.20.0.3 - - [21/Jul/2019 09:32:58] \"POST /hellouser HTTP/1.1\" 200 -\n",
      "172.20.0.3 - - [21/Jul/2019 09:34:09] \"GET /hello HTTP/1.1\" 200 -\n"
     ]
    },
    {
     "name": "stdout",
     "output_type": "stream",
     "text": [
      "None\n",
      "None\n"
     ]
    }
   ],
   "source": [
    "#運行flask server，運行在0.0.0.0:5000\n",
    "#要特別注意假如運行在127.0.0.1的話，會變成只有本機連的到，外網無法\n",
    "app.run(host='0.0.0.0',port=5000)"
   ]
  },
  {
   "cell_type": "code",
   "execution_count": null,
   "metadata": {},
   "outputs": [],
   "source": []
  },
  {
   "cell_type": "code",
   "execution_count": null,
   "metadata": {},
   "outputs": [],
   "source": [
    "\"\"\"\n",
    "\n",
    "\n",
    "    練習題（解答在下面）\n",
    "    一：製作一個會回傳你輸入的數字平方的接口\n",
    "    提示：先將字元轉成數字，回傳數字時需要再將它轉成字元\n",
    "    int(3)  ---->將3轉成數字\n",
    "    str(3)  ---->將3轉成字元\n",
    "    \n",
    "    二：做一個算有幾隻腳的接口，要擷取兩個變數（例：pig,chicken），豬四隻腳雞兩隻\n",
    "    \n",
    "\n",
    "\"\"\""
   ]
  },
  {
   "cell_type": "code",
   "execution_count": null,
   "metadata": {},
   "outputs": [],
   "source": []
  },
  {
   "cell_type": "code",
   "execution_count": null,
   "metadata": {},
   "outputs": [],
   "source": []
  },
  {
   "cell_type": "code",
   "execution_count": null,
   "metadata": {},
   "outputs": [],
   "source": []
  },
  {
   "cell_type": "code",
   "execution_count": null,
   "metadata": {},
   "outputs": [],
   "source": []
  },
  {
   "cell_type": "code",
   "execution_count": null,
   "metadata": {},
   "outputs": [],
   "source": []
  },
  {
   "cell_type": "code",
   "execution_count": null,
   "metadata": {},
   "outputs": [],
   "source": []
  },
  {
   "cell_type": "code",
   "execution_count": null,
   "metadata": {},
   "outputs": [],
   "source": []
  },
  {
   "cell_type": "code",
   "execution_count": null,
   "metadata": {},
   "outputs": [],
   "source": []
  },
  {
   "cell_type": "code",
   "execution_count": null,
   "metadata": {},
   "outputs": [],
   "source": [
    "\"\"\"\n",
    "    一：製作一個會回傳你輸入的數字平方的接口\n",
    "\"\"\"\n",
    "@app.route('/square/<number>')\n",
    "def square(number):\n",
    "    a=int(number)\n",
    "    answer=a*a\n",
    "    return str(answer)\n",
    "    "
   ]
  },
  {
   "cell_type": "code",
   "execution_count": null,
   "metadata": {},
   "outputs": [],
   "source": [
    "\"\"\"\n",
    "    二：做一個算有幾隻腳的接口，要擷取兩個變數（例：pig,chicken），豬四隻腳雞兩隻\n",
    "\"\"\"\n",
    "@app.route('/foot')\n",
    "def foots():\n",
    "    pig = request.args.get('pig')\n",
    "    chicken = request.args.get('chicken')\n",
    "    answer = int(pig)*4+int(chicken)*2\n",
    "    return str(answer)\n",
    "    "
   ]
  },
  {
   "cell_type": "code",
   "execution_count": null,
   "metadata": {},
   "outputs": [],
   "source": []
  }
 ],
 "metadata": {
  "kernelspec": {
   "display_name": "Python 3",
   "language": "python",
   "name": "python3"
  },
  "language_info": {
   "codemirror_mode": {
    "name": "ipython",
    "version": 3
   },
   "file_extension": ".py",
   "mimetype": "text/x-python",
   "name": "python",
   "nbconvert_exporter": "python",
   "pygments_lexer": "ipython3",
   "version": "3.7.3"
  }
 },
 "nbformat": 4,
 "nbformat_minor": 2
}
