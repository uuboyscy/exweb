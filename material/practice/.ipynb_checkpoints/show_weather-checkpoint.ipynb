{
 "cells": [
  {
   "cell_type": "code",
   "execution_count": 1,
   "metadata": {},
   "outputs": [],
   "source": [
    "from weatherAPI import WeatherAPI\n",
    "from flask import Flask, request, abort\n",
    "\n",
    "app = Flask(__name__, static_url_path='/src', static_folder='./src')\n",
    "wth = WeatherAPI()"
   ]
  },
  {
   "cell_type": "code",
   "execution_count": 2,
   "metadata": {},
   "outputs": [],
   "source": [
    "@app.route('/test', methods=['GET'])\n",
    "def test():\n",
    "    return 'Hello.'"
   ]
  },
  {
   "cell_type": "code",
   "execution_count": 3,
   "metadata": {},
   "outputs": [],
   "source": [
    "@app.route('/weather', methods=['GET'])\n",
    "def getWeather():\n",
    "    outStr = \"\"\"\n",
    "    <!doctype html>\n",
    "    <html>\n",
    "    <meta name=\"viewport\" content=\"width=device-width, initial-scale=1.0\">\n",
    "    <head>\n",
    "<title>Hello, Weather !</title>\n",
    "</head>\n",
    "<body>\n",
    "<h1>Hello, 請輸入中文地名獲取天氣資訊 !</h1>\n",
    "<p></p>\n",
    "<form action=\"/weather\" method=\"post\">\n",
    " <label>Location:</label>\n",
    " <input type=\"textbox\" name=\"location\">\n",
    " <input type=\"submit\" value=\"Submit\">\n",
    "</form>\n",
    "</body>\n",
    "</html>\n",
    "    \"\"\"\n",
    "#     return str(wth.setTownID(location))\n",
    "    return outStr"
   ]
  },
  {
   "cell_type": "code",
   "execution_count": 4,
   "metadata": {},
   "outputs": [],
   "source": [
    "@app.route('/weather', methods=['POST'])\n",
    "def showWeather():\n",
    "    outStr = \"\"\"\n",
    "    <!doctype html>\n",
    "    <html>\n",
    "    <meta name=\"viewport\" content=\"width=device-width, initial-scale=1.0\">\n",
    "    <head>\n",
    "<title>Hello, Weather !</title>\n",
    "</head>\n",
    "<body>\n",
    "<h1>Hello, 請輸入中文地名獲取天氣資訊 !</h1>\n",
    "<p></p>\n",
    "<form action=\"/weather\" method=\"post\">\n",
    " <label>Location:</label>\n",
    " <input type=\"textbox\" name=\"location\">\n",
    " <input type=\"submit\" value=\"Submit\">\n",
    "</form>\n",
    "    \"\"\"\n",
    "    loc = request.form.get('location')\n",
    "    print(loc)\n",
    "    wth.setTownID(loc)\n",
    "    wth.getTownWeatherInformationDetail()\n",
    "    outStr += \"\"\"<h2>%s</h2><br>\"\"\"%(loc)\n",
    "    outStr += \"\"\"<img src=\"%s\"><br>\"\"\"%(wth.img_url)\n",
    "    outStr += \"\"\"%s<br>\"\"\"%(wth.desc)\n",
    "    outStr += \"\"\"現在氣溫 %s 度<br>\"\"\"%(wth.temperature)\n",
    "    outStr += \"\"\"體感溫度 %s 度<br>\"\"\"%(wth.felt_air_temp)\n",
    "    outStr += \"\"\"濕度 %s ％<br>\"\"\"%(wth.humidity)\n",
    "#     outStr += \"\"\"降雨量 %s ％<br>\"\"\"%(wth.rainfall)    \n",
    "    outStr += \"\"\"日出時間 %s<br>\"\"\"%(wth.sunrise)\n",
    "    outStr += \"\"\"日落時間 %s<br>\"\"\"%(wth.sunset)\n",
    "    outStr += \"\"\"</body></html>\"\"\"\n",
    "    \n",
    "    return outStr\n",
    "        "
   ]
  },
  {
   "cell_type": "code",
   "execution_count": null,
   "metadata": {
    "scrolled": false
   },
   "outputs": [
    {
     "name": "stderr",
     "output_type": "stream",
     "text": [
      " * Running on http://0.0.0.0:5000/ (Press CTRL+C to quit)\n",
      "172.20.0.4 - - [15/Jun/2019 09:58:54] \"GET /weather HTTP/1.1\" 200 -\n"
     ]
    },
    {
     "name": "stdout",
     "output_type": "stream",
     "text": [
      "中壢\n"
     ]
    },
    {
     "name": "stderr",
     "output_type": "stream",
     "text": [
      "172.20.0.4 - - [15/Jun/2019 09:58:59] \"POST /weather HTTP/1.1\" 200 -\n"
     ]
    },
    {
     "name": "stdout",
     "output_type": "stream",
     "text": [
      "台北\n"
     ]
    },
    {
     "name": "stderr",
     "output_type": "stream",
     "text": [
      "172.20.0.4 - - [15/Jun/2019 09:59:04] \"POST /weather HTTP/1.1\" 200 -\n",
      "172.20.0.4 - - [15/Jun/2019 09:59:42] \"GET /weather HTTP/1.1\" 200 -\n"
     ]
    },
    {
     "name": "stdout",
     "output_type": "stream",
     "text": [
      "中壢\n"
     ]
    },
    {
     "name": "stderr",
     "output_type": "stream",
     "text": [
      "172.20.0.4 - - [15/Jun/2019 09:59:55] \"POST /weather HTTP/1.1\" 200 -\n",
      "172.20.0.4 - - [15/Jun/2019 10:00:19] \"GET /weather HTTP/1.1\" 200 -\n",
      "172.20.0.4 - - [15/Jun/2019 10:00:20] \"GET /weather HTTP/1.1\" 200 -\n",
      "172.20.0.4 - - [15/Jun/2019 10:00:50] \"GET /weather HTTP/1.1\" 200 -\n"
     ]
    },
    {
     "name": "stdout",
     "output_type": "stream",
     "text": [
      "高雄\n"
     ]
    },
    {
     "name": "stderr",
     "output_type": "stream",
     "text": [
      "172.20.0.4 - - [15/Jun/2019 10:01:04] \"POST /weather HTTP/1.1\" 200 -\n"
     ]
    }
   ],
   "source": [
    "if __name__ == '__main__':\n",
    "    app.run(host='0.0.0.0')"
   ]
  },
  {
   "cell_type": "code",
   "execution_count": null,
   "metadata": {},
   "outputs": [],
   "source": []
  }
 ],
 "metadata": {
  "kernelspec": {
   "display_name": "Python 3",
   "language": "python",
   "name": "python3"
  },
  "language_info": {
   "codemirror_mode": {
    "name": "ipython",
    "version": 3
   },
   "file_extension": ".py",
   "mimetype": "text/x-python",
   "name": "python",
   "nbconvert_exporter": "python",
   "pygments_lexer": "ipython3",
   "version": "3.7.3"
  }
 },
 "nbformat": 4,
 "nbformat_minor": 2
}
