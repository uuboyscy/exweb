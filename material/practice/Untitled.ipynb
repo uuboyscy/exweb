{
 "cells": [
  {
   "cell_type": "code",
   "execution_count": 15,
   "metadata": {},
   "outputs": [
    {
     "name": "stdout",
     "output_type": "stream",
     "text": [
      "Connected successfully!\n"
     ]
    }
   ],
   "source": [
    "import pymysql\n",
    "\n",
    "conn = pymysql.connect(\n",
    "    host = \"uuboyscymysql.clrhltpp3icl.ap-northeast-1.rds.amazonaws.com\",\n",
    "    port = int(3306),user = \"food\",\n",
    "    password = \"food\",\n",
    "    db = \"food\",\n",
    "    charset='big5', \n",
    "    cursorclass=pymysql.cursors.DictCursor \n",
    "    )\n",
    "cursor = conn.cursor()\n",
    "print('Connected successfully!')"
   ]
  },
  {
   "cell_type": "code",
   "execution_count": 24,
   "metadata": {},
   "outputs": [
    {
     "data": {
      "text/plain": [
       "'施丞優'"
      ]
     },
     "execution_count": 24,
     "metadata": {},
     "output_type": "execute_result"
    }
   ],
   "source": [
    "conn.commit()\n",
    "cursor.execute(\"SELECT * FROM tibame;\")\n",
    "# print(cursor.fetchall()[0]['stname'].encode('utf-8').decode('unicode-escape'))\n",
    "cursor.fetchall()[0]['stname'].replace('\\\\\\\\','\\\\').encode('utf-8').decode('unicode-escape')\n",
    "# print(cursor.fetchall()[0]['stname'].encode('unicode-escape').decode('utf-8').encode('utf-8').decode('unicode-escape'))"
   ]
  },
  {
   "cell_type": "code",
   "execution_count": 12,
   "metadata": {},
   "outputs": [
    {
     "name": "stdout",
     "output_type": "stream",
     "text": [
      "王小明\n"
     ]
    }
   ],
   "source": [
    "print('\\u738b\\u5c0f\\u660e'.encode('unicode-escape').decode('utf-8').encode('utf-8').decode('unicode-escape'))"
   ]
  },
  {
   "cell_type": "code",
   "execution_count": 29,
   "metadata": {},
   "outputs": [
    {
     "name": "stdout",
     "output_type": "stream",
     "text": [
      "輿情熱度的實務分析：以特定議題、人事物（2020 大選、話題產品）進行關鍵字熱度（正負評、搜尋／討論量）的聲量分析；藉由這些資料結合「商業轉換率」做出關聯性研究，分析輿情、特定操作（事件發生、行銷手法）與實際轉換（民調聲量、電商訂單量）之間的關聯，擬定實用的操作策\n",
      "[0, 128]\n"
     ]
    }
   ],
   "source": [
    "k = \"\\\\\\\\u8f3f\\\\\\\\u60c5\\\\\\\\u71b1\\\\\\\\u5ea6\\\\\\\\u7684\\\\\\\\u5be6\\\\\\\\u52d9\\\\\\\\u5206\\\\\\\\u6790\\\\\\\\uff1a\\\\\\\\u4ee5\\\\\\\\u7279\\\\\\\\u5b9a\\\\\\\\u8b70\\\\\\\\u984c\\\\\\\\u3001\\\\\\\\u4eba\\\\\\\\u4e8b\\\\\\\\u7269\\\\\\\\uff082020 \\\\\\\\u5927\\\\\\\\u9078\\\\\\\\u3001\\\\\\\\u8a71\\\\\\\\u984c\\\\\\\\u7522\\\\\\\\u54c1\\\\\\\\uff09\\\\\\\\u9032\\\\\\\\u884c\\\\\\\\u95dc\\\\\\\\u9375\\\\\\\\u5b57\\\\\\\\u71b1\\\\\\\\u5ea6\\\\\\\\uff08\\\\\\\\u6b63\\\\\\\\u8ca0\\\\\\\\u8a55\\\\\\\\u3001\\\\\\\\u641c\\\\\\\\u5c0b\\\\\\\\uff0f\\\\\\\\u8a0e\\\\\\\\u8ad6\\\\\\\\u91cf\\\\\\\\uff09\\\\\\\\u7684\\\\\\\\u8072\\\\\\\\u91cf\\\\\\\\u5206\\\\\\\\u6790\\\\\\\\uff1b\\\\\\\\u85c9\\\\\\\\u7531\\\\\\\\u9019\\\\\\\\u4e9b\\\\\\\\u8cc7\\\\\\\\u6599\\\\\\\\u7d50\\\\\\\\u5408\\\\\\\\u300c\\\\\\\\u5546\\\\\\\\u696d\\\\\\\\u8f49\\\\\\\\u63db\\\\\\\\u7387\\\\\\\\u300d\\\\\\\\u505a\\\\\\\\u51fa\\\\\\\\u95dc\\\\\\\\u806f\\\\\\\\u6027\\\\\\\\u7814\\\\\\\\u7a76\\\\\\\\uff0c\\\\\\\\u5206\\\\\\\\u6790\\\\\\\\u8f3f\\\\\\\\u60c5\\\\\\\\u3001\\\\\\\\u7279\\\\\\\\u5b9a\\\\\\\\u64cd\\\\\\\\u4f5c\\\\\\\\uff08\\\\\\\\u4e8b\\\\\\\\u4ef6\\\\\\\\u767c\\\\\\\\u751f\\\\\\\\u3001\\\\\\\\u884c\\\\\\\\u92b7\\\\\\\\u624b\\\\\\\\u6cd5\\\\\\\\uff09\\\\\\\\u8207\\\\\\\\u5be6\\\\\\\\u969b\\\\\\\\u8f49\\\\\\\\u63db\\\\\\\\uff08\\\\\\\\u6c11\\\\\\\\u8abf\\\\\\\\u8072\\\\\\\\u91cf\\\\\\\\u3001\\\\\\\\u96fb\\\\\\\\u5546\\\\\\\\u8a02\\\\\\\\u55ae\\\\\\\\u91cf\\\\\\\\uff09\\\\\\\\u4e4b\\\\\\\\u9593\\\\\\\\u7684\\\\\\\\u95dc\\\\\\\\u806f\\\\\\\\uff0c\\\\\\\\u64ec\\\\\\\\u5b9a\\\\\\\\u5be6\\\\\\\\u7528\\\\\\\\u7684\\\\\\\\u64cd\\\\\\\\u4f5c\\\\\\\\u7b56\\\\\\\\u756\" \\\n",
    ".replace('\\\\', '/').replace('//', '\\\\')\n",
    "kList = k.split('\\\\')\n",
    "kListError = []\n",
    "for n, word in enumerate(kList):\n",
    "    try:\n",
    "        print(('\\\\'+word).encode('utf-8').decode('unicode-escape'), end='')\n",
    "    except:\n",
    "        kListError.append(n)\n",
    "\n",
    "print()\n",
    "print(kListError)"
   ]
  }
 ],
 "metadata": {
  "kernelspec": {
   "display_name": "Python 3",
   "language": "python",
   "name": "python3"
  },
  "language_info": {
   "codemirror_mode": {
    "name": "ipython",
    "version": 3
   },
   "file_extension": ".py",
   "mimetype": "text/x-python",
   "name": "python",
   "nbconvert_exporter": "python",
   "pygments_lexer": "ipython3",
   "version": "3.7.3"
  }
 },
 "nbformat": 4,
 "nbformat_minor": 2
}
